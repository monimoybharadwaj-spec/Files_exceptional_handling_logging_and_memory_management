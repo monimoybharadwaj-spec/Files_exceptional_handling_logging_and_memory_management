{
  "nbformat": 4,
  "nbformat_minor": 0,
  "metadata": {
    "colab": {
      "provenance": []
    },
    "kernelspec": {
      "name": "python3",
      "display_name": "Python 3"
    },
    "language_info": {
      "name": "python"
    }
  },
  "cells": [
    {
      "cell_type": "markdown",
      "source": [
        "# **Theoretical Questions**"
      ],
      "metadata": {
        "id": "v80JCrcjk4x-"
      }
    },
    {
      "cell_type": "markdown",
      "source": [
        "Question 1. What is the difference between interpreted and compiled languages?\n",
        "\n",
        "Answer: Interpreted languages are executed line by line by an interpreter, making them slower but easier to debug and more portable across platforms. On the other hand, compiled languages are translated into machine code before execution, which makes them faster but less flexible since they need to be recompiled for different systems. Examples of interpreted languages include Python and JavaScript, while C and C++ are common compiled languages."
      ],
      "metadata": {
        "id": "_H8DyTdJmmVE"
      }
    },
    {
      "cell_type": "markdown",
      "source": [
        "Question 2. What is exception handling in Python?\n",
        "\n",
        "Answer: Exception handling in Python is a way to manage errors that occur during program execution without stopping the entire program. It uses keywords like try, except, else, and finally to catch and handle exceptions gracefully. This ensures that the program can continue running or provide a meaningful error message instead of crashing."
      ],
      "metadata": {
        "id": "iCSjWR-VnOSf"
      }
    },
    {
      "cell_type": "markdown",
      "source": [
        "Question 3. What is the purpose of the finally block in exception handling?\n",
        "\n",
        "Answer: The finally block in Python is used to define code that will always execute, whether an exception occurs or not. It is mainly used for cleanup tasks like closing files, releasing resources, or ending database connections."
      ],
      "metadata": {
        "id": "_ego187Kna7W"
      }
    },
    {
      "cell_type": "markdown",
      "source": [
        "Question 4. What is logging in Python?\n",
        "\n",
        "Answer: Logging in Python is the process of recording messages about a program’s execution, such as errors, warnings, or status updates. It helps in debugging and monitoring by keeping track of events in a log file or console, using the built-in logging module."
      ],
      "metadata": {
        "id": "ye9fqyVEn7HL"
      }
    },
    {
      "cell_type": "code",
      "source": [
        "# Question 5. What is the significance of the __del__ method in Python?\n",
        "\n",
        "# Answer: The __del__ method in Python is known as a destructor. It is called automatically when an object is about to be destroyed, allowing cleanup operations such as\n",
        "# releasing resources or closing files. Its main significance is to ensure proper resource management before the object is removed from memory."
      ],
      "metadata": {
        "id": "NpgMEs8boYag"
      },
      "execution_count": 1,
      "outputs": []
    },
    {
      "cell_type": "code",
      "source": [
        "# Question 6. What is the difference between import and from ... import in Python?\n",
        "\n",
        "# Answer: In Python, import and from ... import are used to include modules, but they work differently.\n",
        "\n",
        "# 1. import module_name: Imports the whole module. We need to use the module name to access its functions or variables. Example :\n",
        "\n",
        "import math\n",
        "print(math.sqrt(16))\n",
        "\n",
        "# 2. from module_name import name: Imports specific functions, classes, or variables directly, so we can use them without the module prefix. Example :\n",
        "\n",
        "from math import sqrt\n",
        "print(sqrt(16))"
      ],
      "metadata": {
        "colab": {
          "base_uri": "https://localhost:8080/"
        },
        "id": "Jchjq3IWNoNL",
        "outputId": "7aeea4c9-c094-41ce-834e-13181f411fdc"
      },
      "execution_count": 65,
      "outputs": [
        {
          "output_type": "stream",
          "name": "stdout",
          "text": [
            "4.0\n",
            "4.0\n"
          ]
        }
      ]
    },
    {
      "cell_type": "code",
      "source": [
        "# Question 7. How can you handle multiple exceptions in Python?\n",
        "\n",
        "# Answer: In Python, multiple exceptions can be handled using multiple except blocks or by grouping exceptions in a single except block. Example:\n",
        "\n",
        "# 1.\n",
        "try:\n",
        "    x = int(input(\"Enter a number: \"))\n",
        "    result = 10 / x\n",
        "except ZeroDivisionError:\n",
        "    print(\"Error: Division by zero.\")\n",
        "except ValueError:\n",
        "    print(\"Error: Invalid input, not a number.\")\n",
        "#2.\n",
        "try:\n",
        "    x = int(input(\"Enter a number: \"))\n",
        "    result = 10 / x\n",
        "except (ZeroDivisionError, ValueError) as e:\n",
        "    print(\"An error occurred:\", e)"
      ],
      "metadata": {
        "colab": {
          "base_uri": "https://localhost:8080/"
        },
        "id": "FJHIwfmEN7Ov",
        "outputId": "e6d75c1f-0303-4044-8f01-32572a2369e9"
      },
      "execution_count": 67,
      "outputs": [
        {
          "output_type": "stream",
          "name": "stdout",
          "text": [
            "Enter a number: 0\n",
            "Error: Division by zero.\n",
            "Enter a number: a\n",
            "An error occurred: invalid literal for int() with base 10: 'a'\n"
          ]
        }
      ]
    },
    {
      "cell_type": "code",
      "source": [
        "# Question 8. What is the purpose of the with statement when handling files in Python?\n",
        "\n",
        "# Answer: The with statement in Python is used when handling files to ensure that resources are properly managed. It automatically opens and closes the file, even\n",
        "# if an error occurs, which prevents resource leaks and file corruption. Using with makes the code cleaner, safer, and easier to read compared to manually opening\n",
        "# and closing files with open() and close(). Example:\n",
        "\n",
        "with open(\"example.txt\", \"r\") as f:\n",
        "    content = f.read()"
      ],
      "metadata": {
        "id": "74zoR1qwMzkV"
      },
      "execution_count": null,
      "outputs": []
    },
    {
      "cell_type": "markdown",
      "source": [
        "Question 9. What is the difference between multithreading and multiprocessing?\n",
        "\n",
        "Answer: Multithreading and multiprocessing are both used to perform tasks concurrently, but they work differently. Multithreading runs multiple threads within the same process, sharing the same memory space, which is useful for I/O-bound tasks but limited by Python's Global Interpreter Lock (GIL). Multiprocessing, on the other hand, runs multiple independent processes, each with its own memory space, allowing true parallel execution on multiple CPU cores. This makes multiprocessing ideal for CPU-bound tasks and computationally intensive operations."
      ],
      "metadata": {
        "id": "J5P7bxDgLxpn"
      }
    },
    {
      "cell_type": "markdown",
      "source": [
        "Question 10. What are the advantages of using logging in a program?\n",
        "\n",
        "Answer: Using logging in a program has several advantages. It helps track the program's execution and important events, making it easier to understand the program's flow. Logging also assists in detecting and debugging errors by recording exceptions and issues as they occur. Logs can be saved to files for future analysis, providing a persistent record of program activity. Additionally, logging allows messages to be categorized by severity levels such as DEBUG, INFO, WARNING, ERROR, and CRITICAL, which helps in monitoring and maintaining the program efficiently over time."
      ],
      "metadata": {
        "id": "FdwWRXimLUqq"
      }
    },
    {
      "cell_type": "markdown",
      "source": [
        "Question 11. What is memory management in Python?\n",
        "\n",
        "Answer: Memory management in Python is the process of allocating, using, and freeing memory for objects during program execution. Python automatically manages memory using reference counting and a garbage collector to remove objects that are no longer in use. Proper memory management helps prevent memory leaks, ensures efficient use of system resources, and keeps programs stable and fast."
      ],
      "metadata": {
        "id": "8-weDem9K2kb"
      }
    },
    {
      "cell_type": "code",
      "source": [
        "# Question 12. What are the basic steps involved in exception handling in Python?\n",
        "\n",
        "# Answer:\n",
        "\n",
        "# Step 1- try: Write the code that may cause an exception.\n",
        "\n",
        "# Step 2- except: Catch and handle the exception if it occurs.\n",
        "\n",
        "# Step 3- else (optional): Execute code when no exception occurs.\n",
        "\n",
        "# Step 4- finally (optional): Execute code that runs regardless of an exception, such as closing files.\n",
        "# Example:\n",
        "try:\n",
        "    x = 10 / 2\n",
        "except ZeroDivisionError:\n",
        "    print(\"Division by zero is not allowed.\")\n",
        "else:\n",
        "    print(\"Division successful.\")\n",
        "finally:\n",
        "    print(\"Execution completed.\")"
      ],
      "metadata": {
        "colab": {
          "base_uri": "https://localhost:8080/"
        },
        "id": "h6p8-kxfJ_zJ",
        "outputId": "3bb133a7-c660-4100-eb6a-815c337fa746"
      },
      "execution_count": 64,
      "outputs": [
        {
          "output_type": "stream",
          "name": "stdout",
          "text": [
            "Division successful.\n",
            "Execution completed.\n"
          ]
        }
      ]
    },
    {
      "cell_type": "markdown",
      "source": [
        "Question 13. Why is memory management important in Python?\n",
        "\n",
        "Answer: Memory management is important in Python because it ensures that a program uses system memory efficiently. Proper memory management helps prevent memory leaks, reduces unnecessary memory consumption, and ensures that objects that are no longer needed are automatically removed by the garbage collector. This makes programs faster, more stable, and less likely to crash due to running out of memory."
      ],
      "metadata": {
        "id": "v-Iv6uTIJWU7"
      }
    },
    {
      "cell_type": "markdown",
      "source": [
        "Question 14. What is the role of try and except in exception handling?\n",
        "\n",
        "Answer: In Python, the try block is used to write code that might raise an exception, while the except block is used to handle the exception if it occurs. The code inside try is executed normally, but if an error arises, Python jumps to the corresponding except block to prevent the program from crashing. This allows programs to gracefully handle errors and continue running."
      ],
      "metadata": {
        "id": "31r1fpv3JFey"
      }
    },
    {
      "cell_type": "markdown",
      "source": [
        "Question 15. How does Python's garbage collection system work?\n",
        "\n",
        "Answer: Python's garbage collection system automatically manages memory by removing objects that are no longer in use. It primarily uses reference counting, where each object keeps track of how many references point to it, and objects with zero references are deleted. To handle cyclic references (objects referencing each other), Python uses a garbage collector from the gc module that detects and frees these unreachable objects. This system helps prevent memory leaks and reduces the need for manual memory management, making programs more efficient."
      ],
      "metadata": {
        "id": "DIHZIAKlInl2"
      }
    },
    {
      "cell_type": "code",
      "source": [
        "# Question 16. What is the purpose of the else block in exception handling?\n",
        "\n",
        "# Answer: In Python, the else block in exception handling is executed only if no exceptions occur in the try block. Its purpose is to run code that should execute\n",
        "# when the try block succeeds, separating it from the error-handling code in except. Example:\n",
        "\n",
        "try:\n",
        "    x = 10 / 2\n",
        "except ZeroDivisionError:\n",
        "    print(\"Division by zero occurred.\")\n",
        "else:\n",
        "    print(\"Division successful, result is:\", x)"
      ],
      "metadata": {
        "colab": {
          "base_uri": "https://localhost:8080/"
        },
        "id": "HWRvXIQbISAA",
        "outputId": "69d0ed90-64a4-4cc7-b8de-1dcc52900892"
      },
      "execution_count": 63,
      "outputs": [
        {
          "output_type": "stream",
          "name": "stdout",
          "text": [
            "Division successful, result is: 5.0\n"
          ]
        }
      ]
    },
    {
      "cell_type": "markdown",
      "source": [
        "Question 17. What are the common logging levels in Python?\n",
        "\n",
        "Answer: The common logging levels in Python are:\n",
        "\n",
        "1. DEBUG - Detailed information, useful for diagnosing problems.\n",
        "\n",
        "2. INFO - General information about program execution.\n",
        "\n",
        "3. WARNING - Indicates a potential problem or important event that is not critical.\n",
        "\n",
        "4. ERROR - Reports a serious problem that prevented a part of the program from working.\n",
        "\n",
        "5. CRITICAL - Very serious errors that may prevent the program from continuing."
      ],
      "metadata": {
        "id": "bgiqrfAyHkmm"
      }
    },
    {
      "cell_type": "markdown",
      "source": [
        "Question 18. What is the difference between os.fork() and multiprocessing in Python?\n",
        "\n",
        "Answer: In Python, os.fork() and multiprocessing are both used for creating new processes, but they work differently.\n",
        "\n",
        "1. os.fork() is a low-level system call available on Unix-based systems that creates a new child process by duplicating the current process. The child process runs independently, and the programmer has to manage inter-process communication manually.\n",
        "\n",
        "2. multiprocessing is a high-level module that works on both Unix and Windows. It allows creating and managing processes more easily, provides tools for sharing data between processes, and handles process lifecycle automatically."
      ],
      "metadata": {
        "id": "-0jE-Pq2HKg5"
      }
    },
    {
      "cell_type": "markdown",
      "source": [
        "Question 19. What is the importance of closing a file in Python?\n",
        "\n",
        "Answer: Closing a file in Python is important because it frees system resources, ensures that any data buffered in memory is properly written to the file, and helps prevent file corruption. It also maintains program stability by avoiding errors related to having too many files open at the same time."
      ],
      "metadata": {
        "id": "6D2hpKW7GwrV"
      }
    },
    {
      "cell_type": "markdown",
      "source": [
        "Question 20. What is the difference between file.read() and file.readline() in Python?\n",
        "\n",
        "Answer:  In Python, file.read() reads the entire content of a file as a single string, whereas file.readline() reads the file one line at a time."
      ],
      "metadata": {
        "id": "8Zmk-q0eGUWq"
      }
    },
    {
      "cell_type": "markdown",
      "source": [
        "Question 21. What is the logging module in Python used for?\n",
        "\n",
        "Answer: The logging module in Python is used to record events during program execution. It can log messages at different levels like DEBUG, INFO, WARNING, ERROR, and CRITICAL, and the logs can be printed to the console or saved to a file. This helps in debugging, tracking errors, and monitoring program behavior efficiently."
      ],
      "metadata": {
        "id": "Y5o-jVgnF5l8"
      }
    },
    {
      "cell_type": "markdown",
      "source": [
        "Question 22. What is the os module in Python used for in file handling?\n",
        "\n",
        "Answer: The os module in Python provides a way to interact with the operating system, which is very useful for file handling. It allows the user to check if a file or directory exists using os.path.exists(), create or remove directories with os.mkdir() and os.rmdir(), delete files using os.remove(), list contents of directories with os.listdir() and get file properties like size, path, or permissions."
      ],
      "metadata": {
        "id": "2o2HNTHwFZDT"
      }
    },
    {
      "cell_type": "markdown",
      "source": [
        "Question 23. What are the challenges associated with memory management in Python?\n",
        "\n",
        "Answer:  Python manages memory automatically using garbage collection, but some challenges remain. Memory leaks can occur if objects are still referenced unintentionally. Large data structures or repeated object creation can consume excessive memory. Reference cycles - where objects reference each other - may delay cleanup. Frequent allocation and deallocation can cause memory fragmentation, and Python offers limited control over memory allocation compared to lower-level languages."
      ],
      "metadata": {
        "id": "mvl3nYn8E19P"
      }
    },
    {
      "cell_type": "code",
      "source": [
        "# Question 24. How do you raise an exception manually in Python?\n",
        "\n",
        "# Answer: In Python, we can manually raise an exception using the 'raise' keyword. Example:\n",
        "\n",
        "try:\n",
        "    age = -1\n",
        "    if age < 0:\n",
        "        raise ValueError(\"Age cannot be negative\")\n",
        "except ValueError as e:\n",
        "    print(\"Caught an exception:\", e)"
      ],
      "metadata": {
        "colab": {
          "base_uri": "https://localhost:8080/"
        },
        "id": "NtcuvR_dEF11",
        "outputId": "8a205b40-1708-45d9-f922-ffbd06d2e7b4"
      },
      "execution_count": 62,
      "outputs": [
        {
          "output_type": "stream",
          "name": "stdout",
          "text": [
            "Caught an exception: Age cannot be negative\n"
          ]
        }
      ]
    },
    {
      "cell_type": "markdown",
      "source": [
        "Question 25. Why is it important to use multithreading in certain applications?\n",
        "\n",
        "Answer : Multithreading is important in certain applications because it allows a program to perform multiple tasks concurrently within the same process. This can improve the efficiency and responsiveness of programs, especially in cases where tasks involve waiting for external resources, such as:I/O operations (reading/writing files, network requests, database queries), User interfaces (keeping the GUI responsive while performing background tasks), etc."
      ],
      "metadata": {
        "id": "CLY9dNK8CVYY"
      }
    },
    {
      "cell_type": "markdown",
      "source": [
        "# **Practical Questions**"
      ],
      "metadata": {
        "id": "qjqzoeLXpyXj"
      }
    },
    {
      "cell_type": "code",
      "source": [
        "# Question 1. How can you open a file for writing in Python and write a string to it?\n",
        "\n",
        "# Answer:\n",
        "\n",
        "with open(\"example.txt\", \"w\") as f:\n",
        "    f.write(\"Hello, this is the first line.\\n\")\n",
        "    f.write(\"This is the second line.\\n\")\n",
        "    f.write(\"And here is the third line.\\n\")"
      ],
      "metadata": {
        "id": "q3gXq6dLpxsb"
      },
      "execution_count": 68,
      "outputs": []
    },
    {
      "cell_type": "code",
      "source": [
        "# Question 2. Write a Python program to read the contents of a file and print each line.\n",
        "\n",
        "# Answer:\n",
        "\n",
        "with open(\"example.txt\", \"w\") as f:\n",
        "    f.write(\"Hello, this is the first line.\\n\")\n",
        "    f.write(\"This is the second line.\\n\")\n",
        "    f.write(\"This is the third line.\\n\")\n",
        "\n",
        "with open(\"example.txt\", \"r\") as f:\n",
        "    for line in f:\n",
        "        print(line.strip())"
      ],
      "metadata": {
        "colab": {
          "base_uri": "https://localhost:8080/"
        },
        "id": "lNGuCaEip_gd",
        "outputId": "ae97683b-7b18-4d3e-f776-51f59107e73e"
      },
      "execution_count": 69,
      "outputs": [
        {
          "output_type": "stream",
          "name": "stdout",
          "text": [
            "Hello, this is the first line.\n",
            "This is the second line.\n",
            "This is the third line.\n"
          ]
        }
      ]
    },
    {
      "cell_type": "code",
      "source": [
        "# Question 3. How would you handle a case where the file doesn't exist while trying to open it for reading?\n",
        "\n",
        "# Answer:\n",
        "\n",
        "try:\n",
        "    with open(\"example1.txt\", \"r\") as f:\n",
        "        content = f.read()\n",
        "        print(content)\n",
        "except FileNotFoundError as e:\n",
        "    print(\"There is an error and the error is\",e)"
      ],
      "metadata": {
        "colab": {
          "base_uri": "https://localhost:8080/"
        },
        "id": "fgqsKZKtqbpI",
        "outputId": "5240a76f-e0dc-4152-8c55-1a9903f45a12"
      },
      "execution_count": 9,
      "outputs": [
        {
          "output_type": "stream",
          "name": "stdout",
          "text": [
            "There is an error and the error is [Errno 2] No such file or directory: 'example1.txt'\n"
          ]
        }
      ]
    },
    {
      "cell_type": "code",
      "source": [
        "# Question 4. Write a Python script that reads from one file and writes its content to another file.\n",
        "\n",
        "# Answer:\n",
        "\n",
        "import shutil\n",
        "\n",
        "try:\n",
        "    shutil.copy(\"source.txt\", \"destination.txt\")  # Copying contents from source.txt to destination.txt\n",
        "    print(\"File copied successfully!\")\n",
        "\n",
        "except FileNotFoundError:\n",
        "    print(\"Source file does not exist.\")"
      ],
      "metadata": {
        "colab": {
          "base_uri": "https://localhost:8080/"
        },
        "id": "SMez5cp2rDKD",
        "outputId": "a117bb4b-00ea-47ce-9cc2-48d62b4aacfd"
      },
      "execution_count": 11,
      "outputs": [
        {
          "output_type": "stream",
          "name": "stdout",
          "text": [
            "Source file does not exist.\n"
          ]
        }
      ]
    },
    {
      "cell_type": "code",
      "source": [
        "# Question 5. How would you catch and handle division by zero error in Python?\n",
        "\n",
        "# Answer:\n",
        "\n",
        "try:\n",
        "    x = 10 / 0\n",
        "except ZeroDivisionError as e:\n",
        "    print(\"There is an error and the error is\",e)"
      ],
      "metadata": {
        "colab": {
          "base_uri": "https://localhost:8080/"
        },
        "id": "uFv_bju3rVju",
        "outputId": "08d3a721-cd13-40a5-8012-a3a8afc0a040"
      },
      "execution_count": 15,
      "outputs": [
        {
          "output_type": "stream",
          "name": "stdout",
          "text": [
            "There is an error and the error is division by zero\n"
          ]
        }
      ]
    },
    {
      "cell_type": "code",
      "source": [
        "# Question 6. Write a Python program that logs an error message to a log file when a division by zero exception occurs.\n",
        "\n",
        "# Answer:\n",
        "\n",
        "import logging\n",
        "\n",
        "logging.basicConfig(filename=\"error.log\", level=logging.ERROR)\n",
        "\n",
        "try:\n",
        "    x = 10 / 0\n",
        "except ZeroDivisionError:\n",
        "    logging.error(\"Division by zero error occurred.\")\n",
        "    print(\"An error has been logged to error.log\")"
      ],
      "metadata": {
        "colab": {
          "base_uri": "https://localhost:8080/"
        },
        "id": "JdfGr-TetBr6",
        "outputId": "418583f9-d6ff-40af-c61e-bee40867ae8f"
      },
      "execution_count": 17,
      "outputs": [
        {
          "output_type": "stream",
          "name": "stderr",
          "text": [
            "ERROR:root:Division by zero error occurred.\n"
          ]
        },
        {
          "output_type": "stream",
          "name": "stdout",
          "text": [
            "An error has been logged to error.log\n"
          ]
        }
      ]
    },
    {
      "cell_type": "code",
      "source": [
        "# Question 7. How do you log information at different levels (INFO, ERROR, WARNING) in Python using the logging module?\n",
        "\n",
        "# Answer:\n",
        "\n",
        "import logging\n",
        "\n",
        "logging.basicConfig(filename=\"test.log\", level=logging.DEBUG)\n",
        "\n",
        "logging.info(\"This is an info message.\")\n",
        "logging.warning(\"This is a warning message.\")\n",
        "logging.error(\"This is an error message.\")\n",
        "\n",
        "logging.shutdown()"
      ],
      "metadata": {
        "colab": {
          "base_uri": "https://localhost:8080/"
        },
        "id": "W0myUfIptlQ1",
        "outputId": "32678aba-008a-4e54-a783-c4a0737bc95a"
      },
      "execution_count": 19,
      "outputs": [
        {
          "output_type": "stream",
          "name": "stderr",
          "text": [
            "WARNING:root:This is a warning message.\n",
            "ERROR:root:This is an error message.\n"
          ]
        }
      ]
    },
    {
      "cell_type": "code",
      "source": [
        "# Question 8. Write a program to handle a file opening error using exception handling.\n",
        "\n",
        "# Answer:\n",
        "\n",
        "try:\n",
        "    with open(\"data.txt\", \"r\") as f:\n",
        "        content = f.read()\n",
        "        print(content)\n",
        "except FileNotFoundError:\n",
        "    print(\"Error: The file does not exist.\")"
      ],
      "metadata": {
        "colab": {
          "base_uri": "https://localhost:8080/"
        },
        "id": "zMCt1nRgubF8",
        "outputId": "a7cd433a-a369-4009-849a-fd8323e96323"
      },
      "execution_count": 20,
      "outputs": [
        {
          "output_type": "stream",
          "name": "stdout",
          "text": [
            "Error: The file does not exist.\n"
          ]
        }
      ]
    },
    {
      "cell_type": "code",
      "source": [
        "# Question 9. How can you read a file line by line and store its content in a list in Python?\n",
        "\n",
        "# Answer:\n",
        "\n",
        "with open(\"example.txt\", \"r\") as f:\n",
        "    lines = [line.strip() for line in f]\n",
        "\n",
        "print(lines)"
      ],
      "metadata": {
        "colab": {
          "base_uri": "https://localhost:8080/"
        },
        "id": "CqJ2pV8fvRW4",
        "outputId": "0ff54016-3879-4ead-8ed5-a7223f77316d"
      },
      "execution_count": 21,
      "outputs": [
        {
          "output_type": "stream",
          "name": "stdout",
          "text": [
            "['Hello, this is the first line.', 'This is the second line.', 'This is the third line.']\n"
          ]
        }
      ]
    },
    {
      "cell_type": "code",
      "source": [
        "# Question 10. How can you append data to an existing file in Python?\n",
        "\n",
        "# Answer:\n",
        "\n",
        "with open(\"example.txt\", \"a\") as f:\n",
        "    f.write(\"\\nThis line is appended to the file.\")\n",
        "\n",
        "with open(\"example.txt\", \"r\") as f:\n",
        "    content = f.read()\n",
        "    print(content)"
      ],
      "metadata": {
        "colab": {
          "base_uri": "https://localhost:8080/"
        },
        "id": "rrVmtEnsvoQn",
        "outputId": "1f504dbc-77a1-4be2-a2b2-ca0cd52892c5"
      },
      "execution_count": 22,
      "outputs": [
        {
          "output_type": "stream",
          "name": "stdout",
          "text": [
            "Hello, this is the first line.\n",
            "This is the second line.\n",
            "This is the third line.\n",
            "\n",
            "This line is appended to the file.\n"
          ]
        }
      ]
    },
    {
      "cell_type": "code",
      "source": [
        "# Question 11. Write a Python program that uses a try-except block to handle an error when attempting to access a\n",
        "# dictionary key that doesn't exist.\n",
        "\n",
        "# Answer:\n",
        "\n",
        "my_dict = {\"a\": 1, \"b\": 2, \"c\": 3}\n",
        "\n",
        "try:\n",
        "    value = my_dict[\"d\"]   # Trying to access a non-existing key\n",
        "except KeyError:\n",
        "    print(\"Error: The key does not exist in the dictionary.\")"
      ],
      "metadata": {
        "colab": {
          "base_uri": "https://localhost:8080/"
        },
        "id": "gd1EmxRZv89c",
        "outputId": "62f99a97-40f9-497d-d4a7-54feef610491"
      },
      "execution_count": 23,
      "outputs": [
        {
          "output_type": "stream",
          "name": "stdout",
          "text": [
            "Error: The key does not exist in the dictionary.\n"
          ]
        }
      ]
    },
    {
      "cell_type": "code",
      "source": [
        "# Question 12.  Write a program that demonstrates using multiple except blocks to handle different types of exceptions.\n",
        "\n",
        "# Answer:\n",
        "\n",
        "try:\n",
        "    x = 10 / 0\n",
        "except ZeroDivisionError:\n",
        "    print(\"Error: Division by zero.\")\n",
        "except ValueError:\n",
        "    print(\"Error: Invalid value.\")\n",
        "except Exception as e:\n",
        "    print(\"An unexpected error occurred:\", e)"
      ],
      "metadata": {
        "colab": {
          "base_uri": "https://localhost:8080/"
        },
        "id": "_M29vNibwW0e",
        "outputId": "46e8d0bf-e5c8-4fb7-bc2e-4ca654e23ddc"
      },
      "execution_count": 25,
      "outputs": [
        {
          "output_type": "stream",
          "name": "stdout",
          "text": [
            "Error: Division by zero.\n"
          ]
        }
      ]
    },
    {
      "cell_type": "code",
      "source": [
        "# Question 13. How would you check if a file exists before attempting to read it in Python?\n",
        "\n",
        "# Answer:\n",
        "\n",
        "import os\n",
        "\n",
        "filename = \"example.txt\"\n",
        "\n",
        "if os.path.exists(filename):\n",
        "    print(\"File exists.\")\n",
        "    with open(filename, \"r\") as f:\n",
        "        content = f.read()\n",
        "        print(content)\n",
        "else:\n",
        "    print(\"File does not exist.\")"
      ],
      "metadata": {
        "colab": {
          "base_uri": "https://localhost:8080/"
        },
        "id": "H5sEBf3FxdZN",
        "outputId": "8c338942-2c69-4ab8-f14b-56f36a1eb0c0"
      },
      "execution_count": 28,
      "outputs": [
        {
          "output_type": "stream",
          "name": "stdout",
          "text": [
            "File exists.\n",
            "Hello, this is the first line.\n",
            "This is the second line.\n",
            "This is the third line.\n",
            "\n",
            "This line is appended to the file.\n"
          ]
        }
      ]
    },
    {
      "cell_type": "code",
      "source": [
        "# Question 14. Write a program that uses the logging module to log both informational and error messages.\n",
        "\n",
        "# Answer:\n",
        "\n",
        "import logging\n",
        "\n",
        "logging.basicConfig(filename=\"logging_test_1.log\", level=logging.INFO)\n",
        "\n",
        "logging.info(\"This is an informational message.\")\n",
        "logging.error(\"This is an error message.\")\n",
        "\n",
        "logging.shutdown()"
      ],
      "metadata": {
        "id": "9CKzgIRozVkg"
      },
      "execution_count": 41,
      "outputs": []
    },
    {
      "cell_type": "code",
      "source": [
        "# Question 15. Write a Python program that prints the content of a file and handles the case when the file is empty.\n",
        "\n",
        "# Answer:\n",
        "\n",
        "filename = \"example2.txt\"\n",
        "\n",
        "try:\n",
        "    with open(filename, \"r\") as f:\n",
        "        content = f.read()\n",
        "        if content:\n",
        "            print(content)\n",
        "        else:\n",
        "            print(\"The file is empty.\")\n",
        "except FileNotFoundError:\n",
        "    print(\"Error: The file does not exist.\")"
      ],
      "metadata": {
        "colab": {
          "base_uri": "https://localhost:8080/"
        },
        "id": "ljvX-X_Vz1zZ",
        "outputId": "c750771d-9131-476d-c473-03164e9c4eaf"
      },
      "execution_count": 42,
      "outputs": [
        {
          "output_type": "stream",
          "name": "stdout",
          "text": [
            "Error: The file does not exist.\n"
          ]
        }
      ]
    },
    {
      "cell_type": "code",
      "source": [
        "# Question 16. Demonstrate how to use memory profiling to check the memory usage of a small program.\n",
        "\n",
        "# Answer:\n",
        "\n",
        "!pip install memory-profiler\n",
        "\n",
        "from memory_profiler import memory_usage\n",
        "\n",
        "def my_function():\n",
        "    a = [i for i in range(100000)]\n",
        "    b = [i*i for i in range(100000)]\n",
        "    return a, b\n",
        "\n",
        "# Track memory usage while running the function\n",
        "mem_usage = memory_usage(my_function)\n",
        "print(\"Memory usage (in MB) at different points:\", mem_usage)"
      ],
      "metadata": {
        "colab": {
          "base_uri": "https://localhost:8080/"
        },
        "id": "kM_j0FDJ0LVM",
        "outputId": "b97a01c0-4a3d-4583-9b71-763d97a553c2"
      },
      "execution_count": 45,
      "outputs": [
        {
          "output_type": "stream",
          "name": "stdout",
          "text": [
            "Requirement already satisfied: memory-profiler in /usr/local/lib/python3.12/dist-packages (0.61.0)\n",
            "Requirement already satisfied: psutil in /usr/local/lib/python3.12/dist-packages (from memory-profiler) (5.9.5)\n",
            "Memory usage (in MB) at different points: [128.3125, 128.3125, 128.6484375, 128.6484375, 128.6484375, 128.6484375, 128.6484375, 128.6484375, 128.6484375, 128.6484375, 128.6484375, 128.6484375, 128.6484375, 128.6484375, 128.6484375, 128.6484375, 128.6484375, 128.6484375, 128.6484375, 127.6640625, 127.6640625, 126.6796875, 126.6796875, 125.6953125, 124.97265625, 124.6953125]\n"
          ]
        }
      ]
    },
    {
      "cell_type": "code",
      "source": [
        "# Question 17. Write a Python program to create and write a list of numbers to a file, one number per line.\n",
        "\n",
        "# Answer:\n",
        "\n",
        "numbers = [1, 2, 3, 4, 5]\n",
        "\n",
        "with open(\"numbers.txt\", \"w\") as f:\n",
        "    for num in numbers:\n",
        "        f.write(str(num) + \"\\n\")\n",
        "\n",
        "with open(\"numbers.txt\", \"r\") as f:\n",
        "    content = f.read()\n",
        "    print(content)"
      ],
      "metadata": {
        "colab": {
          "base_uri": "https://localhost:8080/"
        },
        "id": "y6IfZ61h0uZW",
        "outputId": "f66fd137-11ce-41b1-aa3e-0624cf4f2418"
      },
      "execution_count": 47,
      "outputs": [
        {
          "output_type": "stream",
          "name": "stdout",
          "text": [
            "1\n",
            "2\n",
            "3\n",
            "4\n",
            "5\n",
            "\n"
          ]
        }
      ]
    },
    {
      "cell_type": "code",
      "source": [
        "# Question 18. How would you implement a basic logging setup that logs to a file with rotation after 1MB?\n",
        "\n",
        "# Answer:\n",
        "\n",
        "import logging\n",
        "from logging.handlers import RotatingFileHandler\n",
        "\n",
        "handler = RotatingFileHandler(\"app.log\", maxBytes=1*1024*1024, backupCount=2)\n",
        "\n",
        "logging.basicConfig(\n",
        "    level=logging.INFO,\n",
        "    format=\"%(asctime)s - %(levelname)s - %(message)s\",\n",
        "    handlers=[handler]\n",
        ")\n",
        "\n",
        "for i in range(1000):\n",
        "    logging.info(f\"Log message {i}\")"
      ],
      "metadata": {
        "id": "nXSTG3Ys2Ele"
      },
      "execution_count": 50,
      "outputs": []
    },
    {
      "cell_type": "code",
      "source": [
        "# Question 19. Write a program that handles both IndexError and KeyError using a try-except block.\n",
        "\n",
        "# Answer:\n",
        "\n",
        "my_list = [1, 2, 3]\n",
        "my_dict = {\"a\": 10, \"b\": 20}\n",
        "\n",
        "try:\n",
        "    print(my_list[5])\n",
        "    print(my_dict[\"c\"])\n",
        "except IndexError:\n",
        "    print(\"Error: Index out of range in the list.\")\n",
        "except KeyError:\n",
        "    print(\"Error: Key does not exist in the dictionary.\")"
      ],
      "metadata": {
        "colab": {
          "base_uri": "https://localhost:8080/"
        },
        "id": "l7UUFyPu2sqP",
        "outputId": "87b70d40-ba0d-4e9a-8f3e-7be668066c2c"
      },
      "execution_count": 54,
      "outputs": [
        {
          "output_type": "stream",
          "name": "stdout",
          "text": [
            "Error: Index out of range in the list.\n"
          ]
        }
      ]
    },
    {
      "cell_type": "code",
      "source": [
        "# Question 20.  How would you open a file and read its contents using a context manager in Python?\n",
        "\n",
        "# Answer:\n",
        "\n",
        "filename = \"example.txt\"\n",
        "\n",
        "with open(filename, \"r\") as f:\n",
        "    content = f.read()\n",
        "\n",
        "print(content)"
      ],
      "metadata": {
        "colab": {
          "base_uri": "https://localhost:8080/"
        },
        "id": "PknQ9WJX3gBV",
        "outputId": "cd62ef41-0aef-45ca-f25a-1ab721d84ae0"
      },
      "execution_count": 55,
      "outputs": [
        {
          "output_type": "stream",
          "name": "stdout",
          "text": [
            "Hello, this is the first line.\n",
            "This is the second line.\n",
            "This is the third line.\n",
            "\n",
            "This line is appended to the file.\n"
          ]
        }
      ]
    },
    {
      "cell_type": "code",
      "source": [
        "# Question 21. Write a Python program that reads a file and prints the number of occurrences of a specific word.\n",
        "\n",
        "# Answer:\n",
        "\n",
        "filename = \"example.txt\"\n",
        "word_to_count = \"This\"\n",
        "\n",
        "try:\n",
        "    with open(filename, \"r\") as f:\n",
        "        content = f.read()\n",
        "        words = content.split()\n",
        "        count = words.count(word_to_count)\n",
        "    print(f\"The word '{word_to_count}' occurs {count} times in the file.\")\n",
        "except FileNotFoundError:\n",
        "    print(f\"Error: The file '{filename}' does not exist.\")"
      ],
      "metadata": {
        "colab": {
          "base_uri": "https://localhost:8080/"
        },
        "id": "U3_lcGnN4zXi",
        "outputId": "b837f29c-e87c-444c-f982-c67b375295df"
      },
      "execution_count": 57,
      "outputs": [
        {
          "output_type": "stream",
          "name": "stdout",
          "text": [
            "The word 'This' occurs 3 times in the file.\n"
          ]
        }
      ]
    },
    {
      "cell_type": "code",
      "source": [
        "# Question 22. How can you check if a file is empty before attempting to read its contents?\n",
        "\n",
        "# Answer:\n",
        "\n",
        "import os\n",
        "\n",
        "filename = \"example.txt\"\n",
        "\n",
        "if os.path.exists(filename) and os.path.getsize(filename) > 0:\n",
        "    with open(filename, \"r\") as f:\n",
        "        content = f.read()\n",
        "        print(\"The file is not empty, and its contents are:\",content)\n",
        "else:\n",
        "    print(\"The file is empty or does not exist.\")"
      ],
      "metadata": {
        "colab": {
          "base_uri": "https://localhost:8080/"
        },
        "id": "iJ1sJflH5cgO",
        "outputId": "686a29c3-3a28-4f58-f6d2-be15f1b55bb0"
      },
      "execution_count": 59,
      "outputs": [
        {
          "output_type": "stream",
          "name": "stdout",
          "text": [
            "The file is not empty, and its contents are: Hello, this is the first line.\n",
            "This is the second line.\n",
            "This is the third line.\n",
            "\n",
            "This line is appended to the file.\n"
          ]
        }
      ]
    },
    {
      "cell_type": "code",
      "source": [
        "# Question 23. Write a Python program that writes to a log file when an error occurs during file handling.\n",
        "\n",
        "# Answer:\n",
        "\n",
        "import logging\n",
        "\n",
        "logging.basicConfig(filename=\"file_errors.log\", level=logging.ERROR, format=\"%(asctime)s - %(levelname)s - %(message)s\")\n",
        "\n",
        "filename = \"non_existent_file.txt\"\n",
        "\n",
        "try:\n",
        "    with open(filename, \"r\") as f:\n",
        "        content = f.read()\n",
        "        print(content)\n",
        "except FileNotFoundError as e:\n",
        "    print(f\"Error: {filename} not found.\")\n",
        "    logging.error(f\"File handling error: {e}\")\n",
        "except Exception as e:\n",
        "    print(\"An unexpected error occurred.\")\n",
        "    logging.error(f\"Unexpected error: {e}\")\n",
        "\n",
        "logging.shutdown()"
      ],
      "metadata": {
        "colab": {
          "base_uri": "https://localhost:8080/"
        },
        "id": "c7Q0JvQg6CnX",
        "outputId": "eff4e08b-d08e-4415-d046-8edeccda8db7"
      },
      "execution_count": 60,
      "outputs": [
        {
          "output_type": "stream",
          "name": "stdout",
          "text": [
            "Error: non_existent_file.txt not found.\n"
          ]
        }
      ]
    }
  ]
}